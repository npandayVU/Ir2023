{
 "cells": [
  {
   "cell_type": "markdown",
   "metadata": {},
   "source": [
    "# Assignment 2: Building a Simple Index"
   ]
  },
  {
   "cell_type": "markdown",
   "metadata": {},
   "source": [
    "In this assignment, we will build a simple search index, which we will use later for Boolean retrieval. The assignment tasks are again at the bottom of this document."
   ]
  },
  {
   "cell_type": "markdown",
   "metadata": {},
   "source": [
    "## Loading the Data"
   ]
  },
  {
   "cell_type": "code",
   "execution_count": 1,
   "metadata": {
    "tags": []
   },
   "outputs": [],
   "source": [
    "Summaries_file = 'data/emotion_Summaries.pkl.bz2'\n",
    "Abstracts_file = 'data/emotion_Abstracts.pkl.bz2'"
   ]
  },
  {
   "cell_type": "code",
   "execution_count": 2,
   "metadata": {
    "tags": []
   },
   "outputs": [],
   "source": [
    "import pickle, bz2\n",
    "from collections import namedtuple\n",
    "\n",
    "Summaries = pickle.load( bz2.BZ2File( Summaries_file, 'rb' ) )\n",
    "\n",
    "paper = namedtuple( 'paper', ['title', 'authors', 'year', 'doi'] )\n",
    "\n",
    "for (id, paper_info) in Summaries.items():\n",
    "    Summaries[id] = paper( *paper_info )\n",
    "    \n",
    "Abstracts = pickle.load( bz2.BZ2File( Abstracts_file, 'rb' ) )"
   ]
  },
  {
   "cell_type": "markdown",
   "metadata": {},
   "source": [
    "Let's have a look at what the data looks like for an example of a paper:"
   ]
  },
  {
   "cell_type": "code",
   "execution_count": 3,
   "metadata": {
    "tags": []
   },
   "outputs": [
    {
     "data": {
      "text/plain": [
       "paper(title='Visual and auditory brain areas share a representational structure that supports emotion perception.', authors=['Sievers B', 'Parkinson C', 'Kohler PJ', 'Hughes JM', 'Fogelson SV', 'Wheatley T'], year=2021, doi='10.1016/j.cub.2021.09.043')"
      ]
     },
     "execution_count": 3,
     "metadata": {},
     "output_type": "execute_result"
    }
   ],
   "source": [
    "Summaries[34644547]"
   ]
  },
  {
   "cell_type": "code",
   "execution_count": 4,
   "metadata": {
    "tags": []
   },
   "outputs": [
    {
     "data": {
      "text/plain": [
       "'Emotionally expressive music and dance occur together across the world. This may be because features shared across the senses are represented the same way even in different sensory brain areas, putting music and movement in directly comparable terms. These shared representations may arise from a general need to identify environmentally relevant combinations of sensory features, particularly those that communicate emotion. To test the hypothesis that visual and auditory brain areas share a representational structure, we created music and animation stimuli with crossmodally matched features expressing a range of emotions. Participants confirmed that each emotion corresponded to a set of features shared across music and movement. A subset of participants viewed both music and animation during brain scanning, revealing that representations in auditory and visual brain areas were similar to one another. This shared representation captured not only simple stimulus features but also combinations of features associated with emotion judgments. The posterior superior temporal cortex represented both music and movement using this same structure, suggesting supramodal abstraction of sensory content. Further exploratory analysis revealed that early visual cortex used this shared representational structure even when stimuli were presented auditorily. We propose that crossmodally shared representations support mutually reinforcing dynamics across auditory and visual brain areas, facilitating crossmodal comparison. These shared representations may help explain why emotions are so readily perceived and why some dynamic emotional expressions can generalize across cultural contexts.'"
      ]
     },
     "execution_count": 4,
     "metadata": {},
     "output_type": "execute_result"
    }
   ],
   "source": [
    "Abstracts[34644547]"
   ]
  },
  {
   "cell_type": "markdown",
   "metadata": {},
   "source": [
    "## Some Utility Functions"
   ]
  },
  {
   "cell_type": "markdown",
   "metadata": {},
   "source": [
    "We'll define some utility functions that allow us to tokenize a string into terms, perform linguistic preprocessing on a list of terms, as well as a function to display information about a paper in a nice way. Note that these tokenization and preprocessing functions are rather naive. We will improve them in a later assignment."
   ]
  },
  {
   "cell_type": "code",
   "execution_count": 5,
   "metadata": {
    "tags": []
   },
   "outputs": [
    {
     "name": "stdout",
     "output_type": "stream",
     "text": [
      "['emotionally', 'expressive', 'music', 'and', 'dance', 'occur', 'together', 'across', 'the', 'world.']\n"
     ]
    }
   ],
   "source": [
    "def tokenize(text):\n",
    "    \"\"\"\n",
    "    Function that tokenizes a string in a rather naive way. Can be extended later.\n",
    "    \"\"\"\n",
    "    return text.split(' ')\n",
    "\n",
    "def preprocess(tokens):\n",
    "    \"\"\"\n",
    "    Perform linguistic preprocessing on a list of tokens. Can be extended later.\n",
    "    \"\"\"\n",
    "    result = []\n",
    "    for token in tokens:\n",
    "        result.append(token.lower())\n",
    "    return result\n",
    "\n",
    "print(preprocess(tokenize(\"Emotionally expressive music and dance occur together across the world.\")))\n",
    "\n",
    "\n",
    "\n"
   ]
  },
  {
   "cell_type": "code",
   "execution_count": 6,
   "metadata": {
    "tags": []
   },
   "outputs": [
    {
     "data": {
      "text/html": [
       "<strong><a href=http://dx.doi.org/10.1016/j.cub.2021.09.043>Visual and auditory brain areas share a representational structure that supports emotion perception.</a></strong><br>2021. Sievers B, Parkinson C, Kohler PJ, Hughes JM, Fogelson SV, Wheatley T<br><small><strong>Abstract:</strong> <em>Emotionally expressive music and dance occur together across the world. This may be because features shared across the senses are represented the same way even in different sensory brain areas, putting music and movement in directly comparable terms. These shared representations may arise from a general need to identify environmentally relevant combinations of sensory features, particularly those that communicate emotion. To test the hypothesis that visual and auditory brain areas share a representational structure, we created music and animation stimuli with crossmodally matched features expressing a range of emotions. Participants confirmed that each emotion corresponded to a set of features shared across music and movement. A subset of participants viewed both music and animation during brain scanning, revealing that representations in auditory and visual brain areas were similar to one another. This shared representation captured not only simple stimulus features but also combinations of features associated with emotion judgments. The posterior superior temporal cortex represented both music and movement using this same structure, suggesting supramodal abstraction of sensory content. Further exploratory analysis revealed that early visual cortex used this shared representational structure even when stimuli were presented auditorily. We propose that crossmodally shared representations support mutually reinforcing dynamics across auditory and visual brain areas, facilitating crossmodal comparison. These shared representations may help explain why emotions are so readily perceived and why some dynamic emotional expressions can generalize across cultural contexts.</em></small><br>[ID: 34644547]"
      ],
      "text/plain": [
       "<IPython.core.display.HTML object>"
      ]
     },
     "metadata": {},
     "output_type": "display_data"
    }
   ],
   "source": [
    "from IPython.display import display, HTML\n",
    "import re\n",
    "\n",
    "def display_summary( id, show_abstract=False, show_id=True, extra_text='' ):\n",
    "    \"\"\"\n",
    "    Function for printing a paper's summary through IPython's Rich Display System.\n",
    "    Trims long author lists, and adds a link to the paper's DOI (when available).\n",
    "    \"\"\"\n",
    "    s = Summaries[id]\n",
    "    lines = []\n",
    "    title = s.title\n",
    "    if s.doi != '':\n",
    "        title = '<a href=http://dx.doi.org/{:s}>{:s}</a>'.format(s.doi, title)\n",
    "    title = '<strong>' + title + '</strong>'\n",
    "    lines.append(title)\n",
    "    authors = ', '.join( s.authors[:20] ) + ('' if len(s.authors) <= 20 else ', ...')\n",
    "    lines.append(str(s.year) + '. ' + authors)\n",
    "    if (show_abstract):\n",
    "        lines.append('<small><strong>Abstract:</strong> <em>{:s}</em></small>'.format(Abstracts[id]))\n",
    "    if (show_id):\n",
    "        lines.append('[ID: {:d}]'.format(id))\n",
    "    if (extra_text != ''):\n",
    "         lines.append(extra_text)\n",
    "    display( HTML('<br>'.join(lines)) )\n",
    "\n",
    "display_summary(34644547, show_abstract=True)"
   ]
  },
  {
   "cell_type": "markdown",
   "metadata": {},
   "source": [
    "## Creating our first index"
   ]
  },
  {
   "cell_type": "markdown",
   "metadata": {},
   "source": [
    "We will now create an _inverted index_ based on the words in the titles and abstracts of the papers in our dataset. We will implement our inverted index as a Python dictionary with term strings as keys and posting lists (implemented as Python lists) as values. We include all the tokens we can find in the title and (if available) in the abstract:"
   ]
  },
  {
   "cell_type": "code",
   "execution_count": 7,
   "metadata": {
    "tags": []
   },
   "outputs": [],
   "source": [
    "from collections import defaultdict\n",
    "\n",
    "inverted_index = defaultdict(list)\n",
    "\n",
    "# This can take a few seconds:\n",
    "for id in sorted(Summaries.keys()):\n",
    "    term_set = set(preprocess(tokenize(Summaries[id].title)))\n",
    "    if id in Abstracts:\n",
    "        term_set.update(preprocess(tokenize(Abstracts[id])))\n",
    "    for term in term_set:\n",
    "        inverted_index[term].append(id)"
   ]
  },
  {
   "cell_type": "markdown",
   "metadata": {},
   "source": [
    "Let's see what's in the index for the example term 'music':"
   ]
  },
  {
   "cell_type": "code",
   "execution_count": 8,
   "metadata": {
    "tags": []
   },
   "outputs": [
    {
     "name": "stdout",
     "output_type": "stream",
     "text": [
      "[616164, 1858435, 2631969, 2728537, 3835976, 6153964, 7266193, 7510804, 7870518, 8259767, 8541967, 9076708, 9567714, 9602525, 9606949, 9818509, 9949709, 10053235, 10138592, 10260225, 10586571, 11129375, 11161359, 11407962, 11573015, 11815880, 11915127, 11990972, 12133576, 12296486, 12575587, 12678572, 12761468, 12795548, 12956543, 14565905, 14589533, 14681113, 15053726, 15182241, 15315187, 15327344, 15699060, 15709930, 15913388, 15993964, 16078183, 16086981, 16271503, 16384553, 16447368, 16458860, 16597758, 16597772, 16597776, 16597795, 16671835, 16761812, 16828911, 16935277, 16959817, 16970965, 17290372, 17295965, 17323817, 17343712, 17395609, 17416488, 17466401, 17516815, 17554674, 17695356, 17965981, 17997625, 18039047, 18189577, 18392933, 18501389, 18505596, 18558143, 18588701, 18710596, 18729581, 18753014, 18755225, 18824047, 18826699, 18985111, 18988943, 19102595, 19227107, 19253088, 19256729, 19368861, 19391047, 19526057, 19588251, 19592998, 19594648, 19673788, 19673808, 19673809, 19673812, 19673837, 19822162, 19884142, 19955723, 20005297, 20025907, 20153297, 20300041, 20300580, 20307678, 20338217, 20442037, 20515223, 20524563, 20551355, 20633975, 20663569, 20831571, 20887648, 21071094, 21071617, 21073970, 21097307, 21141770, 21146164, 21179549, 21180883, 21181251, 21217764, 21252549, 21264050, 21309873, 21385617, 21477909, 21526586, 21527791, 21530980, 21544264, 21547762, 21559468, 21626088, 21648329, 21678187, 21683947, 21696717, 21704661, 21707144, 21714738, 21714965, 21716581, 21723130, 21747773, 21756454, 21756455, 21763342, 21767048, 21778809, 21859191, 21859207, 21895104, 21902567, 21942696, 22022516, 22025908, 22110619, 22144968, 22232614, 22242169, 22248246, 22255729, 22292000, 22303405, 22362607, 22405960, 22419117, 22431970, 22505222, 22506300, 22524374, 22530296, 22534936, 22579645, 22642351, 22721000, 22811384, 22811391, 22835930, 22842396, 22956988, 23057507, 23112175, 23125108, 23145287, 23220447, 23227458, 23248314, 23269918, 23281860, 23285951, 23350300, 23367102, 23386738, 23391882, 23418992, 23422457, 23440757, 23477505, 23516087, 23527508, 23576998, 23605956, 23630507, 23641223, 23671106, 23684870, 23732338, 23750144, 23754373, 23769678, 23785342, 23810975, 23882233, 23908642, 23914179, 23944764, 23964250, 23964255, 23970875, 23974947, 24046758, 24062634, 24101908, 24137141, 24149889, 24151530, 24175181, 24215647, 24236079, 24290272, 24298171, 24319434, 24348344, 24380823, 24381565, 24389368, 24399950, 24427146, 24432008, 24526569, 24552785, 24568004, 24581119, 24603216, 24604603, 24672492, 24729748, 24795677, 24808096, 24822035, 24829557, 24847111, 24871301, 24891698, 24910621, 24923421, 24939575, 24957406, 25014925, 25023618, 25026154, 25050430, 25066878, 25071428, 25072162, 25076869, 25101043, 25144200, 25167363, 25224999, 25251882, 25291405, 25320700, 25324094, 25330315, 25339880, 25389411, 25440305, 25459139, 25461917, 25490753, 25505879, 25534332, 25551392, 25562621, 25565997, 25566122, 25620935, 25635400, 25646521, 25674060, 25674066, 25684284, 25684286, 25691513, 25725908, 25725918, 25726292, 25740903, 25741232, 25741278, 25741295, 25773627, 25773635, 25773636, 25773637, 25773639, 25773641, 25813790, 25814950, 25814961, 25837268, 25899831, 25932010, 25954217, 25994970, 26052277, 26080754, 26082702, 26083383, 26124532, 26203921, 26217252, 26226563, 26248474, 26257162, 26257625, 26266024, 26300835, 26301531, 26302716, 26304229, 26316123, 26317976, 26347603, 26354957, 26355193, 26379529, 26379583, 26392676, 26441718, 26455803, 26504353, 26520146, 26528171, 26545104, 26553987, 26578990, 26578992, 26579029, 26605497, 26617511, 26642050, 26656189, 26681623, 26696818, 26725925, 26778996, 26787218, 26834675, 26863420, 26913488, 26923742, 26925009, 26936595, 26970942, 26973584, 27019776, 27065893, 27084302, 27187232, 27217116, 27221253, 27252770, 27284390, 27284693, 27300268, 27311295, 27318599, 27362475, 27375537, 27394152, 27415015, 27445674, 27445752, 27478480, 27489560, 27526666, 27530829, 27534322, 27536232, 27611092, 27678301, 27689591, 27695424, 27746579, 27747819, 27770078, 27790111, 27799544, 27848281, 27867061, 28040801, 28069444, 28152081, 28159618, 28228741, 28282400, 28349620, 28367404, 28371645, 28373851, 28377740, 28387335, 28421007, 28421015, 28421017, 28424637, 28452679, 28460035, 28461128, 28491045, 28496420, 28596746, 28658285, 28717902, 28720526, 28720776, 28764896, 28781419, 28790442, 28846006, 28855881, 28894831, 28958161, 28986700, 29025134, 29028939, 29033810, 29060499, 29060614, 29093672, 29094761, 29163276, 29163286, 29225563, 29235615, 29238298, 29239655, 29249997, 29255434, 29290641, 29311870, 29311874, 29312024, 29342779, 29354080, 29367844, 29380139, 29385142, 29396616, 29411997, 29447561, 29472873, 29478708, 29541041, 29551984, 29580190, 29621947, 29696045, 29706916, 29714026, 29714918, 29715736, 29727009, 29732575, 29741242, 29745546, 29749625, 29772960, 29779745, 29797585, 29853841, 29857757, 29867629, 29867690, 29922139, 29926237, 29933380, 29936120, 29953870, 30043178, 30073859, 30135649, 30145207, 30181063, 30195538, 30210316, 30272211, 30321036, 30321389, 30334227, 30369705, 30374854, 30391223, 30409082, 30440815, 30445068, 30459665, 30460234, 30473677, 30475035, 30477866, 30479734, 30483173, 30500394, 30506118, 30518885, 30558474, 30592696, 30629944, 30632918, 30664457, 30687158, 30816742, 30832292, 30852910, 30883569, 30890020, 30890993, 30894829, 30910074, 30913416, 30936827, 30956655, 30956720, 30990819, 30999560, 31024405, 31026474, 31050205, 31059486, 31137662, 31145745, 31153307, 31178787, 31202155, 31219478, 31263113, 31317962, 31372689, 31391062, 31402880, 31404816, 31482571, 31512332, 31518379, 31532781, 31549425, 31551686, 31551857, 31555172, 31615998, 31619943, 31619969, 31638882, 31642389, 31647961, 31664132, 31708368, 31725733, 31742643, 31776972, 31805815, 31820677, 31877974, 31901418, 31906793, 31907316, 31926279, 31967195, 31977888, 31984963, 31993668, 32023136, 32050086, 32065140, 32096377, 32116613, 32123973, 32132904, 32176126, 32268523, 32277251, 32302600, 32354094, 32358988, 32379657, 32422128, 32434622, 32442777, 32541806, 32547455, 32558624, 32567335, 32581943, 32611175, 32612553, 32639926, 32640373, 32670037, 32670038, 32718172, 32832103, 32841260, 32848961, 32898679, 32903573, 32908227, 32926234, 32928851, 32982862, 33005139, 33013602, 33015164, 33018116, 33018685, 33019236, 33059197, 33074236, 33090055, 33154663, 33189951, 33192408, 33201423, 33206664, 33224021, 33232856, 33252967, 33269144, 33281651, 33301827, 33367590, 33370739, 33391081, 33422540, 33439887, 33442987, 33474716, 33488453, 33511447, 33568976, 33584402, 33613395, 33733192, 33798055, 33808786, 33808989, 33828508, 33828512, 33828693, 33868120, 33868125, 33889107, 33897346, 33945156, 33980876, 33981274, 33996929, 34017286, 34025335, 34063693, 34093328, 34098026, 34135825, 34145586, 34217125, 34248787, 34280999, 34297831, 34300436, 34300666, 34305560, 34305714, 34309409, 34329821, 34354631, 34393944, 34421523, 34421756, 34453176, 34456670, 34478815, 34508286, 34512453, 34527043, 34527046, 34557268, 34588026, 34588054, 34594267, 34611377, 34615904, 34644547]\n"
     ]
    }
   ],
   "source": [
    "print(inverted_index['music'])"
   ]
  },
  {
   "cell_type": "markdown",
   "metadata": {},
   "source": [
    "Wow that's a lot of research related to music and emotion! We can now use this inverted index to answer simple one-word queries, for example to show all papers that contain the word 'dance':"
   ]
  },
  {
   "cell_type": "code",
   "execution_count": 9,
   "metadata": {
    "tags": []
   },
   "outputs": [
    {
     "data": {
      "text/html": [
       "<strong><a href=http://dx.doi.org/10.1089/acm.1995.1.323>The power of dance: health and healing.</a></strong><br>1995. Hanna JL<br><small><strong>Abstract:</strong> <em>Dance involves the culturally mediated body, emotion, and mind. So do illness and pain. Dance may promote wellness by strengthening the immune system through muscular action and physiological processes. Dance conditions an individual to moderate, eliminate, or avoid tension, chronic fatigue, and other disabling conditions that result from the effects of stress. Dance may help the healing process as a person gains a sense of control through (1) possession by the spiritual in dance, (2) mastery of movement, (3) escape or diversion from stress and pain through a change in emotion, states of consciousness, and/or physical capability, and (4) confronting stressors to work through ways of handling their effects.</em></small><br>[ID: 9395627]"
      ],
      "text/plain": [
       "<IPython.core.display.HTML object>"
      ]
     },
     "metadata": {},
     "output_type": "display_data"
    },
    {
     "data": {
      "text/html": [
       "<strong><a href=http://dx.doi.org/10.1037//0012-1649.34.5.1007>Children's decoding of emotion in expressive body movement: the development of cue attunement.</a></strong><br>1998. Boone RT, Cunningham JG<br><small><strong>Abstract:</strong> <em>Little research has focused on children's decoding of emotional meaning in expressive body movement: none has considered which movement cues children use to detect emotional meaning. The current study investigated the general ability to decode happiness, sadness, anger, and fear in dance forms of expressive body movement and the specific ability to detect differences in the intensity of anger and happiness when the relative amount of movement cue specifying each emotion was systematically varied. Four-year-olds (n = 25), 5-year-olds (n = 25), 8-year-olds (n = 29), and adults (n = 24) completed an emotion contrast task and 2 emotion intensity tasks. Decoding ability exceeding chance levels was demonstrated for sadness by 4-year-olds; for sadness, fear, and happiness by 5-year-olds: and for all emotions by 8-year-olds and adults. Children as young as 5 years were shown to rely on emotion-specific movement cues in their decoding of anger and happiness intensity. The theoretical significance of these effects across development is discussed.</em></small><br>[ID: 9779746]"
      ],
      "text/plain": [
       "<IPython.core.display.HTML object>"
      ]
     },
     "metadata": {},
     "output_type": "display_data"
    },
    {
     "data": {
      "text/html": [
       "<strong><a href=http://dx.doi.org/10.1038/423221c>Making a song and dance about emotion.</a></strong><br>2003. Marshall RC<br><small><strong>Abstract:</strong> <em></em></small><br>[ID: 12748612]"
      ],
      "text/plain": [
       "<IPython.core.display.HTML object>"
      ]
     },
     "metadata": {},
     "output_type": "display_data"
    },
    {
     "data": {
      "text/html": [
       "<strong><a href=http://dx.doi.org/10.1016/j.mehy.2005.11.040>Postulating that our neurological models for musculoskeletal support, movement, and emotional expression come from archetypal forms in early organisms.</a></strong><br>2006. Appleton JA<br><small><strong>Abstract:</strong> <em>The ability for humans, in principle, to almost effortlessly support themselves against gravity, to move with grace, and to express themselves in subtle and beautiful ways is amazing, given the number of moveable joints, variety of obstacles and intentions, and possible emotions to express. The actual mechanics are obviously astonishing but the models for these activities, in origin, must be simple. The basic hypotheses concerning these models are the following: The neurological model for the control of our musculoskeletal system is a simple support system from early organisms. This model involves a complementary relationship between the dorsal and ventral surfaces. There are three functionally distinct parts of the body, though not visually observable. These parts, named here \"the director, motor, and rudder segments,\" are functionally distinct in optimal posture and movement. Healthy balance, posture, and movement result from their relatively independent yet coordinated actions. Forms of locomotion used by early organisms: peristalsis, lateral undulation, and dorsal-ventral undulation are present in us yet. Four frozen phases of the dorsal-ventral wave, for example, constitute four distinct postural and personality styles. I present these hypotheses together in this short paper as an introduction to a new illustration-dependent way to conceive some of our psychophysical realities. The hypotheses came from efforts to develop mental imagery to assist students in learning the Alexander technique (AT). In addition, a little known theory concerning four basic emotions and personality types, called the Fusion Theory, provided an initial concept of personality types. Four fixed postural patterns that I observed in teaching AT linked well to this personality typology. There is research that supports the use of mental imagery to affect change in body use, mostly in the sports and dance fields, but none exists addressing the specific imagery derived from these hypotheses. If these theories were confirmed, several areas could stand to benefit. Through imagery, some concepts involving musculoskeletal health could become more accessible to health-conscious and suffering individuals and give them a new way to become more connected to and responsible for their postural and mental health. Kinesiology, neurology, and psychology could develop a closer connection if research found that some aspects of posture, movement, and emotion all developed from allied origins. Specific benefits could come to the study of facial and body expression, understanding the physical basis of emotion and attitude, and understanding the experience of qualia in general.</em></small><br>[ID: 16413683]"
      ],
      "text/plain": [
       "<IPython.core.display.HTML object>"
      ]
     },
     "metadata": {},
     "output_type": "display_data"
    },
    {
     "data": {
      "text/html": [
       "<strong><a href=http://dx.doi.org/10.1037/a0020146>Coherence between emotional experience and physiology: does body awareness training have an impact?</a></strong><br>2010. Sze JA, Gyurak A, Yuan JW, Levenson RW<br><small><strong>Abstract:</strong> <em>Two fundamental issues in emotion theory and research concern: (a) the role of emotion in promoting response coherence across different emotion systems; and (b) the role of awareness of bodily sensations in the experience of emotion. The present study poses a question bridging the two domains; namely, whether training in Vipassana meditation or dance, both of which promote attention to certain kinds of bodily sensations, is associated with greater coherence between the subjective and physiological aspects of emotion. We used lag correlations to examine second-by-second coherence between subjective emotional experience and heart period within individuals across four different films. Participants were either: (a) experienced Vipassana meditators (attention to visceral sensations), (b) experienced dancers (attention to somatic sensations), and (c) controls with no meditation or dance experience. Results indicated a linear relationship in coherence, with meditators having highest levels, dancers having intermediary levels, and controls having lowest levels. We conclude that the coherence between subjective and cardiac aspects of emotion is greater in those who have specialized training that promotes greater body awareness.</em></small><br>[ID: 21058842]"
      ],
      "text/plain": [
       "<IPython.core.display.HTML object>"
      ]
     },
     "metadata": {},
     "output_type": "display_data"
    },
    {
     "data": {
      "text/html": [
       "<strong><a href=http://dx.doi.org/10.1016/j.bandc.2011.08.005>Captured by motion: dance, action understanding, and social cognition.</a></strong><br>2011. Sevdalis V, Keller PE<br><small><strong>Abstract:</strong> <em>In this review article, we summarize the main findings from empirical studies that used dance-related forms of rhythmical full body movement as a research tool for investigating action understanding and social cognition. This work has proven to be informative about behavioral and brain mechanisms that mediate links between perceptual and motor processes invoked during the observation and execution of spatially-temporally coordinated action and interpersonal interaction. The review focuses specifically on processes related to (a) motor experience and expertise, (b) learning and memory, (c) action, intention, and emotion understanding, and (d) audio-visual synchrony and timing. Consideration is given to the relationship between research on dance and more general embodied cognition accounts of action understanding and social cognition. Finally, open questions and issues concerning experimental design are discussed with a view to stimulating future research on social-cognitive aspects of dance.</em></small><br>[ID: 21880410]"
      ],
      "text/plain": [
       "<IPython.core.display.HTML object>"
      ]
     },
     "metadata": {},
     "output_type": "display_data"
    },
    {
     "data": {
      "text/html": [
       "<strong><a href=http://dx.doi.org/10.3109/16066359.2010.545156>Thizzin'-Ecstasy use contexts and emergent social meanings.</a></strong><br>2011. Lee JP, Battle RS, Soller B, Brandes N<br><small><strong>Abstract:</strong> <em>The drug \"Ecstasy\" has been most commonly associated with raves, or electronic music dance events, and attributed with sexual disinhibition. In an ethnographic investigation of drug use among second-generation Southeast Asian youth in Northern California (2003), respondents described little use of or interest in using Ecstasy; yet in a second study, Ecstasy was the fourth most commonly-used substance. This paper investigates the social contexts for this change in use patterns. Respondents were second-generation Southeast Asian youths and young adults between the ages of 15 and 26 who were currently or recently drug-involved. We compared qualitative data from the two studies and found emerging patterns of meaning and context related to the observed change in use patterns. Ecstasy use among co-resident African American youth within the context of the local \"hyphy\" hip-hop music subculture had influenced Southeast Asian youths' uptake of the drug, known as \"thizz.\" Respondents referred to the effects of the drug as \"thizzin',\" described as energizing, disinhibiting, numbing, and emotion enhancing. Reported consequences of \"thizzin'\" included violence and aggression as well as fun, while sexual disinhibition was rarely mentioned. The meanings assigned to drugs, including the effects ascribed to them, may be relative to the social contexts within which users are exposed to and consume drugs. The findings indicate the susceptibility of youths to local trends in drug use, particularly associated with popular cultural movements and music. Second-generation youths may be particularly susceptible relative to the conditions of their immigration and processes of identity formation unique to them.</em></small><br>[ID: 22025908]"
      ],
      "text/plain": [
       "<IPython.core.display.HTML object>"
      ]
     },
     "metadata": {},
     "output_type": "display_data"
    },
    {
     "data": {
      "text/html": [
       "<strong><a href=http://dx.doi.org/10.1016/j.brs.2012.03.013>Dance and emotion in posterior parietal cortex: a low-frequency rTMS study.</a></strong><br>2012. Grosbras MH, Tan H, Pollick F<br><small><strong>Abstract:</strong> <em>The neural bases of emotion are most often studied using short non-natural stimuli and assessed using correlational methods. Here we use a brain perturbation approach to make causal inferences between brain activity and emotional reaction to a long segment of dance.</em></small><br>[ID: 22494828]"
      ],
      "text/plain": [
       "<IPython.core.display.HTML object>"
      ]
     },
     "metadata": {},
     "output_type": "display_data"
    },
    {
     "data": {
      "text/html": [
       "<strong>Step change.</strong><br>2012. McMillan I<br><small><strong>Abstract:</strong> <em>Staffat a south east London NHS trust are discovering how dance can improve their communication with patients with learning disabilities. Weekly dance sessions, run by Magpie Dance, are now also being made available to people with dementia, autism and other conditions. Through dance people can express emotion, build confidence and change their lives.</em></small><br>[ID: 22787966]"
      ],
      "text/plain": [
       "<IPython.core.display.HTML object>"
      ]
     },
     "metadata": {},
     "output_type": "display_data"
    },
    {
     "data": {
      "text/html": [
       "<strong><a href=http://dx.doi.org/10.1371/journal.pone.0089773>Recognizing induced emotions of happiness and sadness from dance movement.</a></strong><br>2014. Van Dyck E, Vansteenkiste P, Lenoir M, Lesaffre M, Leman M<br><small><strong>Abstract:</strong> <em>Recent research revealed that emotional content can be successfully decoded from human dance movement. Most previous studies made use of videos of actors or dancers portraying emotions through choreography. The current study applies emotion induction techniques and free movement in order to examine the recognition of emotional content from dance. Observers (N = 30) watched a set of silent videos showing depersonalized avatars of dancers moving to an emotionally neutral musical stimulus after emotions of either sadness or happiness had been induced. Each of the video clips consisted of two dance performances which were presented side-by-side and were played simultaneously; one of a dancer in the happy condition and one of the same individual in the sad condition. After every film clip, the observers were asked to make forced-choices concerning the emotional state of the dancer. Results revealed that observers were able to identify the emotional state of the dancers with a high degree of accuracy. Moreover, emotions were more often recognized for female dancers than for their male counterparts. In addition, the results of eye tracking measurements unveiled that observers primarily focus on movements of the chest when decoding emotional information from dance movement. The findings of our study show that not merely portrayed emotions, but also induced emotions can be successfully recognized from free dance movement. </em></small><br>[ID: 24587026]"
      ],
      "text/plain": [
       "<IPython.core.display.HTML object>"
      ]
     },
     "metadata": {},
     "output_type": "display_data"
    },
    {
     "data": {
      "text/html": [
       "<strong><a href=http://dx.doi.org/10.3389/fnhum.2014.00757>Enhancing emotional experiences to dance through music: the role of valence and arousal in the cross-modal bias.</a></strong><br>2014. Christensen JF, Gaigg SB, Gomila A, Oke P, Calvo-Merino B<br><small><strong>Abstract:</strong> <em>It is well established that emotional responses to stimuli presented to one perceptive modality (e.g., visual) are modulated by the concurrent presentation of affective information to another modality (e.g., auditory)-an effect known as the cross-modal bias. However, the affective mechanisms mediating this effect are still not fully understood. It remains unclear what role different dimensions of stimulus valence and arousal play in mediating the effect, and to what extent cross-modal influences impact not only our perception and conscious affective experiences, but also our psychophysiological emotional response. We addressed these issues by measuring participants' subjective emotion ratings and their Galvanic Skin Responses (GSR) in a cross-modal affect perception paradigm employing videos of ballet dance movements and instrumental classical music as the stimuli. We chose these stimuli to explore the cross-modal bias in a context of stimuli (ballet dance movements) that most participants would have relatively little prior experience with. Results showed (i) that the cross-modal bias was more pronounced for sad than for happy movements, whereas it was equivalent when contrasting high vs. low arousal movements; and (ii) that movement valence did not modulate participants' GSR, while movement arousal did, such that GSR was potentiated in the case of low arousal movements with sad music and when high arousal movements were paired with happy music. Results are discussed in the context of the affective dimension of neuroentrainment and with regards to implications for the art community. </em></small><br>[ID: 25339880]"
      ],
      "text/plain": [
       "<IPython.core.display.HTML object>"
      ]
     },
     "metadata": {},
     "output_type": "display_data"
    },
    {
     "data": {
      "text/html": [
       "<strong><a href=http://dx.doi.org/10.3389/fpsyg.2014.01478>New framework for rehabilitation - fusion of cognitive and physical rehabilitation: the hope for dancing.</a></strong><br>2014. Dhami P, Moreno S, DeSouza JF<br><small><strong>Abstract:</strong> <em>Neurorehabilitation programs are commonly employed with the goal to help restore functionality in patients. However, many of these therapies report only having a small impact. In response to the need for more effective and innovative approaches, rehabilitative methods that take advantage of the neuroplastic properties of the brain have been used to aid with both physical and cognitive impairments. Following this path of reasoning, there has been a particular interest in the use of physical exercise as well as musical related activities. Although such therapies demonstrate potential, they also have limitations that may affect their use, calling for further exploration. Here, we propose dance as a potential parallel to physical and music therapies. Dance may be able to aid with both physical and cognitive impairments, particularly due to it combined nature of including both physical and cognitive stimulation. Not only does it incorporate physical and motor skill related activities, but it can also engage various cognitive functions such as perception, emotion, and memory, all while done in an enriched environment. Other more practical benefits, such as promoting adherence due to being enjoyable, are also discussed, along with the current literature on the application of dance as an intervention tool, as well as future directions required to evaluate the potential of dance as an alternative therapy in neurorehabilitation. </em></small><br>[ID: 25674066]"
      ],
      "text/plain": [
       "<IPython.core.display.HTML object>"
      ]
     },
     "metadata": {},
     "output_type": "display_data"
    },
    {
     "data": {
      "text/html": [
       "<strong><a href=http://dx.doi.org/10.3389/fnins.2015.00030>A hypothesis on the biological origins and social evolution of music and dance.</a></strong><br>2015. Wang T<br><small><strong>Abstract:</strong> <em>The origins of music and musical emotions is still an enigma, here I propose a comprehensive hypothesis on the origins and evolution of music, dance, and speech from a biological and sociological perspective. I suggest that every pitch interval between neighboring notes in music represents corresponding movement pattern through interpreting the Doppler effect of sound, which not only provides a possible explanation for the transposition invariance of music, but also integrates music and dance into a common form-rhythmic movements. Accordingly, investigating the origins of music poses the question: why do humans appreciate rhythmic movements? I suggest that human appreciation of rhythmic movements and rhythmic events developed from the natural selection of organisms adapting to the internal and external rhythmic environments. The perception and production of, as well as synchronization with external and internal rhythms are so vital for an organism's survival and reproduction, that animals have a rhythm-related reward and emotion (RRRE) system. The RRRE system enables the appreciation of rhythmic movements and events, and is integral to the origination of music, dance and speech. The first type of rewards and emotions (rhythm-related rewards and emotions, RRREs) are evoked by music and dance, and have biological and social functions, which in turn, promote the evolution of music, dance and speech. These functions also evoke a second type of rewards and emotions, which I name society-related rewards and emotions (SRREs). The neural circuits of RRREs and SRREs develop in species formation and personal growth, with congenital and acquired characteristics, respectively, namely music is the combination of nature and culture. This hypothesis provides probable selection pressures and outlines the evolution of music, dance, and speech. The links between the Doppler effect and the RRREs and SRREs can be empirically tested, making the current hypothesis scientifically concrete. </em></small><br>[ID: 25741232]"
      ],
      "text/plain": [
       "<IPython.core.display.HTML object>"
      ]
     },
     "metadata": {},
     "output_type": "display_data"
    },
    {
     "data": {
      "text/html": [
       "<strong><a href=http://dx.doi.org/10.1111/nyas.12634>Dance experience sculpts aesthetic perception and related brain circuits.</a></strong><br>2015. Kirsch LP, Dawson K, Cross ES<br><small><strong>Abstract:</strong> <em>Previous research on aesthetic preferences demonstrates that people are more likely to judge a stimulus as pleasing if it is familiar. Although general familiarity and liking are related, it is less clear how motor familiarity, or embodiment, relates to a viewer's aesthetic appraisal. This study directly compared how learning to embody an action impacts the neural response when watching and aesthetically evaluating the same action. Twenty-two participants trained for 4 days on dance sequences. Each day they physically rehearsed one set of sequences, passively watched a second set, listened to the music of a third set, and a fourth set remained untrained. Functional MRI was obtained prior to and immediately following the training period, as were affective and physical ability ratings for each dance sequence. This approach enabled precise comparison of self-report methods of embodiment with nonbiased, empirical measures of action performance. Results suggest that after experience, participants most enjoy watching those dance sequences they danced or observed. Moreover, brain regions involved in mediating the aesthetic response shift from subcortical regions associated with dopaminergic reward processing to posterior temporal regions involved in processing multisensory integration, emotion, and biological motion. </em></small><br>[ID: 25773627]"
      ],
      "text/plain": [
       "<IPython.core.display.HTML object>"
      ]
     },
     "metadata": {},
     "output_type": "display_data"
    },
    {
     "data": {
      "text/html": [
       "<strong><a href=http://dx.doi.org/10.1080/00207144.2015.1062701>Autohypnosis and Trance Dance in Bali.</a></strong><br>2015. Haley J, Richeport-Haley M<br><small><strong>Abstract:</strong> <em>A masterpiece of historical importance, this paper recounts Jay and Madeleine Haley's trip to Bali nearly 50 years after Gregory Bateson and Margaret Mead first went there. The Haleys met several of the same individuals who greeted Bateson and Mead and made a film they entitled \"Dance and Trance of Balinese Children.\" This is a fascinating document of a culture and society so different from our own and the technique of dance and trance used to regulate emotion and violence. </em></small><br>[ID: 26305133]"
      ],
      "text/plain": [
       "<IPython.core.display.HTML object>"
      ]
     },
     "metadata": {},
     "output_type": "display_data"
    },
    {
     "data": {
      "text/html": [
       "<strong>[How tango dance could improve erotical skills?].</strong><br>2015. Papart JP<br><small><strong>Abstract:</strong> <em>The connection that should necessarily establish the tango dancers for performing the act of tango could prove to be an ideal therapeutic setting to work interpersonal, communicative and erotic skills. Indeed, the requirement of tango of grasping all at once, the intention and the gesture (motor registry), the vision, the hearing and the proprioception (sensory register), as well as acknowledgement of the emotion produced in his own body and in of his/her partner, has great benefit.</em></small><br>[ID: 26790239]"
      ],
      "text/plain": [
       "<IPython.core.display.HTML object>"
      ]
     },
     "metadata": {},
     "output_type": "display_data"
    },
    {
     "data": {
      "text/html": [
       "<strong><a href=http://dx.doi.org/10.1016/j.actpsy.2016.03.008>Affective responses to dance.</a></strong><br>2016. Christensen JF, Pollick FE, Lambrechts A, Gomila A<br><small><strong>Abstract:</strong> <em>The objective of the present work was the characterization of mechanisms by which affective experiences are elicited in observers when watching dance movements. A total of 203 dance stimuli from a normed stimuli library were used in a series of independent experiments. The following measures were obtained: (i) subjective measures of 97 dance-naïve participants' affective responses (Likert scale ratings, interviews); and (ii) objective measures of the physical parameters of the stimuli (motion energy, luminance), and of the movements represented in the stimuli (roundedness, impressiveness). Results showed that (i) participants' ratings of felt and perceived affect differed, (ii) felt and perceived valence but not arousal ratings correlated with physical parameters of the stimuli (motion energy and luminance), (iii) roundedness in posture shape was related to the experience of more positive emotion than edgy shapes (1 of 3 assessed rounded shapes showed a clear effect on positiveness ratings while a second reached trend level significance), (iv) more impressive movements resulted in more positive affective responses, (v) dance triggered affective experiences through the imagery and autobiographical memories it elicited in some people, and (vi) the physical parameters of the video stimuli correlated only weakly and negatively with the aesthetics ratings of beauty, liking and interest. The novelty of the present approach was twofold; (i) the assessment of multiple affect-inducing mechanisms, and (ii) the use of one single normed stimulus set. The results from this approach lend support to both previous and present findings. Results are discussed with regards to current literature in the field of empirical aesthetics and affective neuroscience. </em></small><br>[ID: 27235953]"
      ],
      "text/plain": [
       "<IPython.core.display.HTML object>"
      ]
     },
     "metadata": {},
     "output_type": "display_data"
    },
    {
     "data": {
      "text/html": [
       "<strong><a href=http://dx.doi.org/10.1016/j.cct.2016.10.001>A pilot study to evaluate multi-dimensional effects of dance for people with Parkinson's disease.</a></strong><br>2016. Ventura MI, Barnes DE, Ross JM, Lanni KE, Sigvardt KA, Disbrow EA<br><small><strong>Abstract:</strong> <em>Parkinson's disease (PD) is a progressive neurodegenerative disease associated with deficits in motor, cognitive, and emotion/quality of life (QOL) domains, yet most pharmacologic and behavioral interventions focus only on motor function. Our goal was to perform a pilot study of Dance for Parkinson's-a community-based program that is growing in popularity-in order to compare effect sizes across multiple outcomes and to inform selection of primary and secondary outcomes for a larger trial. Study participants were people with PD who self-enrolled in either Dance for Parkinson's classes (intervention group, N=8) or PD support groups (control group, N=7). Assessments of motor function (Timed-Up-and-Go, Gait Speed, Standing Balance Test), cognitive function (Test of Everyday Attention, Verbal Fluency, Alternate Uses, Digit Span Forward and Backward), and emotion/QOL (Geriatric Depression Scale, Falls Efficacy Scale-International, Parkinson's Disease Questionnaire-39 (total score and Activities of Daily Living subscale)) were performed in both groups at baseline and follow-up. Standardized effect sizes were calculated within each group and between groups for all 12 measures. Effect sizes were positive (suggesting improvement) for all 12 measures within the intervention group and 7 of 12 measures within the control group. The largest between-group differences were observed for the Test of Everyday Attention (a measure of cognitive switching), gait speed and falls efficacy. Our findings suggest that dance has potential to improve multiple outcomes in people with PD. Future trials should consider co-primary outcomes given potential benefits in motor, cognitive and emotion/QOL domains.</em></small><br>[ID: 27765693]"
      ],
      "text/plain": [
       "<IPython.core.display.HTML object>"
      ]
     },
     "metadata": {},
     "output_type": "display_data"
    },
    {
     "data": {
      "text/html": [
       "<strong><a href=http://dx.doi.org/10.7748/ns.26.38.18.s26>Step change Ian McMillan Step change is a Freelance journalist.</a></strong><br>2012. <br><small><strong>Abstract:</strong> <em>Staff at a south east London NHS trust are discovering how dance can improve their communication with patients with learning disabilities. Weekly dance sessions, run by Magpie Dance, are now also being made available to people with dementia, autism and other conditions. Through dance people can express emotion, build confidence and change their lives.</em></small><br>[ID: 28072221]"
      ],
      "text/plain": [
       "<IPython.core.display.HTML object>"
      ]
     },
     "metadata": {},
     "output_type": "display_data"
    },
    {
     "data": {
      "text/html": [
       "<strong><a href=http://dx.doi.org/10.1177/0033294117711130>Stress, Emotions, and Motivational States Among Traditional Dancers in New Zealand and Japan.</a></strong><br>2017. Kuroda Y, Geisler G, Morel PCH, Hapeta J<br><small><strong>Abstract:</strong> <em>This study used a reversal theory framework to examine motivational dominance and changes in motivational state, arousal, stress, and emotions among members of traditional Japanese (Nihon Odori Sports Science (NOSS)) and New Zealand (Kapa Haka) dance groups. Eighty-four participants (50 in Japan and 34 in New Zealand) completed questionnaires on each variable before and after a dance class. The findings indicated that the Kapa Haka dancers were significantly more playful and arousal-seeking than the NOSS dancers. They also reported higher overall arousal, preferred arousal, and effort during performance while the NOSS dancers became more serious afterward. Data on emotions matched those of arousal in that the Kapa Haka dancers felt significantly more excited and provocative after the session. The NOSS dancers were more relaxed and placid, both overall and after dancing. These patterns were consistent with the dancers' respective motivational states and motivational dominance, and suggest that both dances can be effective in reducing negative affect. They also suggest that psychological effects are dependent upon performers' personal and cultural affiliation with the two dance forms.</em></small><br>[ID: 28565975]"
      ],
      "text/plain": [
       "<IPython.core.display.HTML object>"
      ]
     },
     "metadata": {},
     "output_type": "display_data"
    },
    {
     "data": {
      "text/html": [
       "<strong><a href=http://dx.doi.org/10.1111/nyas.13420>Not all about sex: neural and biobehavioral functions of human dance.</a></strong><br>2017. Christensen JF, Cela-Conde CJ, Gomila A<br><small><strong>Abstract:</strong> <em>This paper provides an integrative review of neuroscientific and biobehavioral evidence about the effects of dance on the individual across cultural differences. Dance moves us, and many derive aesthetic pleasure from it. However, in addition-and beyond aesthetics-we propose that dance has noteworthy, deeper neurobiological effects. We first summarize evidence that illustrates the centrality of dance to human life indirectly from archaeology, comparative psychology, developmental psychology, and cross-cultural psychology. Second, we review empirical evidence for six neural and biobehavioral functions of dance: (1) attentional focus/flow, (2) basic emotional experiences, (3) imagery, (4) communication, (5) self-intimation, and (6) social cohesion. We discuss the reviewed evidence in relation to current debates in the field of empirical enquiry into the functions of human dance, questioning the positions that dance is (1) just for pleasure, (2) all about sex, (3) just for mood management and well-being, and (4) for experts only. Being a young field, evidence is still piecemeal and inconclusive. This review aims to take a step toward a systematization of an emerging avenue of research: a neuro- and biobehavioral science of dance.</em></small><br>[ID: 28787539]"
      ],
      "text/plain": [
       "<IPython.core.display.HTML object>"
      ]
     },
     "metadata": {},
     "output_type": "display_data"
    },
    {
     "data": {
      "text/html": [
       "<strong><a href=http://dx.doi.org/10.1111/psyp.13008>I can feel my heartbeat: Dancers have increased interoceptive accuracy.</a></strong><br>2018. Christensen JF, Gaigg SB, Calvo-Merino B<br><small><strong>Abstract:</strong> <em>Interoception is the process of perceiving afferent signals arising from within the body including heart rate (HR), gastric signals, etc., and has been described as a mechanism crucially involved in the creation of self-awareness and selfhood. The heartbeat perception task is a tool to measure individuals' interoceptive accuracy (IAcc). IAcc correlates positively with measures of self-awareness and with attributes including emotional sensitivity, empathy, prosocial behavior, and efficient decision making. IAcc is only moderate in the general population, and attempts to identify groups of people who might have higher IAcc due to their specific training (e.g., yoga, meditation) have not been successful. However, a recent study with musicians suggests that those trained in the arts might exhibit high IAcc. Here, we tested IAcc in 20 professional dancers and 20 female control participants on a heartbeat perception task. Dancers had a higher IAcc, and this effect was independent of their lower heart rates (a proxy measure of physical fitness), counting ability, and knowledge about HR. An additional between-groups analysis after a median split in the dancer group (based on years of dance experience) showed that junior dancers' IAcc differed from controls, and senior dancers' IAcc was higher than both junior dancers and controls. General art experience correlated positively with IAcc. No correlations were found between IAcc and questionnaire measures of empathy, emotional experience, and alexithymia. These findings are discussed in the context of current theories of interoception and emotion-highlighting the features of arts training that might be related to IAcc.</em></small><br>[ID: 28940488]"
      ],
      "text/plain": [
       "<IPython.core.display.HTML object>"
      ]
     },
     "metadata": {},
     "output_type": "display_data"
    },
    {
     "data": {
      "text/html": [
       "<strong><a href=http://dx.doi.org/10.3389/fnhum.2017.00572>Enhancement of Pleasure during Spontaneous Dance.</a></strong><br>2017. Bernardi NF, Bellemare-Pepin A, Peretz I<br><small><strong>Abstract:</strong> <em>Dancing emphasizes the motor expression of emotional experiences. The bodily expression of emotions can modulate the subjective experience of emotions, as when adopting emotion-specific postures and faces. Thus, dancing potentially offers a ground for emotional coping through emotional enhancement and regulation. Here we investigated the emotional responses to music in individuals without any prior dance training while they either freely danced or refrained from movement. Participants were also tested while imitating their own dance movements but in the absence of music as a control condition. Emotional ratings and cardio-respiratory measures were collected following each condition. Dance movements were recorded using motion capture. We found that emotional valence was increased specifically during spontaneous dance of groovy excerpts, compared to both still listening and motor imitation. Furthermore, parasympathetic-related heart rate variability (HRV) increased during dance compared to motor imitation. Nevertheless, subjective and physiological arousal increased during movement production, regardless of whether participants were dancing or imitating. Significant correlations were found between inter-individual differences in the emotions experienced during dance and whole-body acceleration profiles. The combination of movement and music during dance results in a distinct state characterized by acutely heightened pleasure, which is of potential interest for the use of dance in therapeutic settings.</em></small><br>[ID: 29238298]"
      ],
      "text/plain": [
       "<IPython.core.display.HTML object>"
      ]
     },
     "metadata": {},
     "output_type": "display_data"
    },
    {
     "data": {
      "text/html": [
       "<strong><a href=http://dx.doi.org/10.1111/nyas.13644>Dancing to \"groovy\" music enhances the experience of flow.</a></strong><br>2018. Bernardi NF, Bellemare-Pepin A, Peretz I<br><small><strong>Abstract:</strong> <em>We investigated whether dancing influences the emotional response to music, compared to when music is listened to in the absence of movement. Forty participants without previous dance training listened to \"groovy\" and \"nongroovy\" music excerpts while either dancing or refraining from movement. Participants were also tested while imitating their own dance movements, but in the absence of music as a control condition. Emotion ratings and ratings of flow were collected following each condition. Dance movements were recorded using motion capture. We found that the state of flow was increased specifically during spontaneous dance to groovy excerpts, compared with both still listening and motor imitation. Emotions in the realms of vitality (such as joy and power) and sublimity (such as wonder and nostalgia) were evoked by music in general, whether participants moved or not. Significant correlations were found between the emotional and flow responses to music and whole-body acceleration profiles. Thus, the results highlight a distinct state of flow when dancing, which may be of use to promote well-being and to address certain clinical conditions.</em></small><br>[ID: 29732575]"
      ],
      "text/plain": [
       "<IPython.core.display.HTML object>"
      ]
     },
     "metadata": {},
     "output_type": "display_data"
    },
    {
     "data": {
      "text/html": [
       "<strong><a href=http://dx.doi.org/10.1016/bs.pbr.2018.03.012>The influence of sensorimotor experience on the aesthetic evaluation of dance across the life span.</a></strong><br>2018. Kirsch LP, Cross ES<br><small><strong>Abstract:</strong> <em>Understanding how action perception, embodiment, and emotion interact is essential for advancing knowledge about how we perceive and interact with each other in a social world. One tool that has proved particularly useful in the past decade for exploring the relationship between perception, action, and affect is dance. Dance is, in its essence, a rich and multisensory art form that can be used to help answer not only basic questions about social cognition but also questions concerning how aging shapes the relationship between action perception, and the role played by affect, emotion, and aesthetics in social perception. In the present study, we used a 1-week physical and visual dance training paradigm to instill varying degrees of sensorimotor experience among non-dancers from three distinct age groups (early adolescents, young adults, and older adults). Our aim was to begin to build an understanding of how aging influences the relationship between action embodiment and affective (or aesthetic) value, at both brain and behavioral levels. On balance, our results point toward a similar positive effect of sensorimotor training on aesthetic evaluations across the life span on a behavioral level, but to rather different neural substrates supporting implicit aesthetic judgment of dance movements at different life stages. Taken together, the present study contributes valuable first insights into the relationship between sensorimotor experience and affective evaluations across ages, and underscores the utility of dance as a stimulus and training intervention for addressing key questions relevant to human neuroscience as well as the arts and humanities.</em></small><br>[ID: 29779740]"
      ],
      "text/plain": [
       "<IPython.core.display.HTML object>"
      ]
     },
     "metadata": {},
     "output_type": "display_data"
    },
    {
     "data": {
      "text/html": [
       "<strong><a href=http://dx.doi.org/10.1109/EMBC.2018.8512630>Instance-Based Genre-Specific Music Emotion Prediction with An EEG Setup.</a></strong><br>2018. Liu X, Wai AAP, Kumaran S, Saravanan YR, Lin Z<br><small><strong>Abstract:</strong> <em>This paper explores a novel direction in music-induced emotion (music emotion) analysis - the effects of different genres on the prediction of music emotion. We aim to compare the performance of various classifiers in the prediction of the emotion induced by music, as well as to investigate the adaptation of advanced features (such as asymmetries) in improving classification accuracy. The study is supported by real-world experiments where 10 subjects listened to 20 musical pieces from 5 genres- classical, heavy metal, electronic dance music, pop and rap, during which electroencephalogram (EEG) data were collected. A maximum 10-fold cross-validation accuracy of 98.4% for subject-independent and 99.0% for subject-dependent data were obtained for the classification of short instances of each song. The emotion of popular music was shown to have been most accurately predicted, with a classification accuracy of 99.6%. Further examination was conducted to investigate the effect of music emotion on the relaxation of subjects while listening.</em></small><br>[ID: 30440815]"
      ],
      "text/plain": [
       "<IPython.core.display.HTML object>"
      ]
     },
     "metadata": {},
     "output_type": "display_data"
    },
    {
     "data": {
      "text/html": [
       "<strong><a href=http://dx.doi.org/10.1177/0301006618816631>The Warburg Dance Movement Library-The WADAMO Library: A Validation Study.</a></strong><br>2019. Christensen JF, Lambrechts A, Tsakiris M<br><small><strong>Abstract:</strong> <em>The Warburg Dance Movement Library is a validated set of 234 video clips of dance movements for empirical research in the fields of cognitive science and neuroscience of action perception, affect perception and neuroaesthetics. The library contains two categories of video clips of dance movement sequences. Of each pair, one version of the movement sequence is emotionally expressive (Clip a), while the other version of the same sequence (Clip b) is not expressive but as technically correct as the expressive version (Clip a). We sought to complement previous dance video stimuli libraries. Facial information, colour and music have been removed, and each clip has been faded in and out. We equalised stimulus length (6 seconds, 8 counts in dance theory), the dancers' clothing and video background and included both male and female dancers, and we controlled for technical correctness of movement execution. The Warburg Dance Movement Library contains both contemporary and ballet movements. Two online surveys ( N = 160) confirmed the classification into the two categories of expressivity. Four additional online surveys ( N = 80) provided beauty and liking ratings for each clip. A correlation matrix illustrates all variables of this norming study (technical correctness, expressivity, beauty, liking, luminance, motion energy).</em></small><br>[ID: 30558474]"
      ],
      "text/plain": [
       "<IPython.core.display.HTML object>"
      ]
     },
     "metadata": {},
     "output_type": "display_data"
    },
    {
     "data": {
      "text/html": [
       "<strong><a href=http://dx.doi.org/10.1109/ACII.2017.8273637>An Investigation into Three Visual Characteristics of Complex Scenes that Evoke Human Emotion.</a></strong><br>2017. Lu X, Adams RB Jr, Li J, Newman MG, Wang JZ<br><small><strong>Abstract:</strong> <em>Prior computational studies have examined hundreds of visual characteristics related to color, texture, and composition in an attempt to predict human emotional responses. Beyond those myriad features examined in computer science, roundness, angularity, and visual complexity have also been found to evoke emotions in human perceivers, as demonstrated in psychological studies of facial expressions, dance poses, and even simple synthetic visual patterns. Capturing these characteristics algorithmically to incorporate in computational studies, however, has proven difficult. Here we expand the scope of previous computer vision work by examining these three visual characteristics in computer analysis of complex scenes, and compare the results to the hundreds of visual qualities previously examined. A large collection of ecologically valid stimuli (</em></small><br>[ID: 31588367]"
      ],
      "text/plain": [
       "<IPython.core.display.HTML object>"
      ]
     },
     "metadata": {},
     "output_type": "display_data"
    },
    {
     "data": {
      "text/html": [
       "<strong><a href=http://dx.doi.org/10.1016/S0241-6972(20)30037-2>[Art therapy in all its forms].</a></strong><br>2020. Marion M<br><small><strong>Abstract:</strong> <em>Dance therapy favours self-expression. The body is the focal point for the dance therapist, although accessing the body can be a sensitive matter, involving as it does the patient's intimacy. The professional must be able to decipher body language and take it into account, in order to lead the patient towards possible pathways. Here, perceptions, feelings or emotions are the keys to successful therapy.</em></small><br>[ID: 32718455]"
      ],
      "text/plain": [
       "<IPython.core.display.HTML object>"
      ]
     },
     "metadata": {},
     "output_type": "display_data"
    },
    {
     "data": {
      "text/html": [
       "<strong><a href=http://dx.doi.org/10.1016/j.cognition.2020.104446>Timing is everything: Dance aesthetics depend on the complexity of movement kinematics.</a></strong><br>2020. Orlandi A, Cross ES, Orgs G<br><small><strong>Abstract:</strong> <em>What constitutes a beautiful action? Research into dance aesthetics has largely focussed on subjective features like familiarity with the observed movement, but has rarely studied objective features like speed or acceleration. We manipulated the kinematic complexity of observed actions by creating dance sequences that varied in movement timing, but not in movement trajectory. Dance-naïve participants rated the dance videos on speed, effort, reproducibility, and enjoyment. Using linear mixed-effects modeling, we show that faster, more predictable movement sequences with varied velocity profiles are judged to be more effortful, less reproducible, and more aesthetically pleasing than slower sequences with more uniform velocity profiles. Accordingly, dance aesthetics depend not only on which movements are being performed but on how movements are executed and linked into sequences. The aesthetics of movement timing may apply across culturally-specific dance styles and predict both preference for and perceived difficulty of dance, consistent with information theory and effort heuristic accounts of aesthetic appreciation.</em></small><br>[ID: 32932073]"
      ],
      "text/plain": [
       "<IPython.core.display.HTML object>"
      ]
     },
     "metadata": {},
     "output_type": "display_data"
    },
    {
     "data": {
      "text/html": [
       "<strong><a href=http://dx.doi.org/10.4103/ijoem.IJOEM_190_19>Analysis of Postural Risk and Pain Assessment in Bharatanatyam Dancers.</a></strong><br>2020. Panhale VP, Walankar PP, Sridhar A<br><small><strong>Abstract:</strong> <em>Bharatanatyam dance form is an amalgamation of emotion, rhythm, expression, and sculpturesque poses that demand high levels of physical and psychological power during a performance.</em></small><br>[ID: 33281374]"
      ],
      "text/plain": [
       "<IPython.core.display.HTML object>"
      ]
     },
     "metadata": {},
     "output_type": "display_data"
    },
    {
     "data": {
      "text/html": [
       "<strong><a href=http://dx.doi.org/10.1016/j.actpsy.2020.103215>Emotion matters: Different psychophysiological responses to expressive and non-expressive full-body movements.</a></strong><br>2021. Christensen JF, Azevedo RT, Tsakiris M<br><small><strong>Abstract:</strong> <em>We explore dance video clip stimuli as a means to test human observers' accuracy in detecting genuine emotional expressivity in full-body movements. Stimuli of every-day-type full-body expressions of emotions usually use culturally very recognizable actions (e.g. fist shaking for anger, etc). However, expressive dance movement stimuli can be created to contain fully abstract movements. The expressivity results from subtle variations in the body movements of the expressor, and emotions cannot be recognised by observers via particular actions (e.g. fist shaking, etc). Forty-one participants watched and rated 24 pairs of short dance videos -from a published normalised dance stimuli library- in randomised order (N = 48). Of each carefully matched pair, one version of the full-body movement sequence had been danced to be emotionally genuinely expressive (clip a), while the other version of the same sequence (clip b) had been danced -while technically correct- without any emotional expressivity. Participants rated (i) expressivity (to test their accuracy; block 1), and (ii) how much they liked each movement (an implicit measure to test their emotional response (\"liking\"); block 2). Participants rated clips that were intended to be expressive as more expressive (part 1: expressivity ratings), and liked those expressive clips more than the non-expressive clips (part 2: liking ratings). Besides, their galvanic skin response differed, depending on the category of clips they were watching (expressive vs. non-expressive), and this relationship was modulated by interceptive accuracy and arts experience. Results are discussed in relation to the Body Precision Hypothesis and the Hypothesis of Constructed Emotion.</em></small><br>[ID: 33316458]"
      ],
      "text/plain": [
       "<IPython.core.display.HTML object>"
      ]
     },
     "metadata": {},
     "output_type": "display_data"
    },
    {
     "data": {
      "text/html": [
       "<strong><a href=http://dx.doi.org/10.1098/rstb.2019.0752>Valuing what happens: a biogenic approach to valence and (potentially) affect.</a></strong><br>2021. Lyon P, Kuchling F<br><small><strong>Abstract:</strong> <em>Valence is half of the pair of properties that constitute core affect, the foundation of emotion. But what is valence, and where is it found in the natural world? Currently, this question cannot be answered. The idea that emotion is the body's way of driving the organism to secure its survival, thriving and reproduction runs like a leitmotif from the pathfinding work of Antonio Damasio through four book-length neuroscientific accounts of emotion recently published by the field's leading practitioners. Yet while Damasio concluded 20 years ago that the homeostasis-affect linkage is rooted in unicellular life, no agreement exists about whether even non-human animals with brains experience emotions. Simple neural animals-those less brainy than bees, fruit flies and other charismatic invertebrates-are not even on the radar of contemporary affective research, to say nothing of aneural organisms. This near-sightedness has effectively denied the most productive method available for getting a grip on highly complex biological processes to a scientific domain whose importance for understanding biological decision-making cannot be underestimated. Valence arguably is the fulcrum around which the dance of life revolves. Without the ability to discriminate advantage from harm, life very quickly comes to an end. In this paper, we review the concept of valence, where it came from, the work it does in current leading theories of emotion, and some of the odd features revealed via experiment. We present a biologically grounded framework for investigating valence in any organism and sketch a preliminary pathway to a computational model. This article is part of the theme issue 'Basal cognition: conceptual tools and the view from the single cell'.</em></small><br>[ID: 33487109]"
      ],
      "text/plain": [
       "<IPython.core.display.HTML object>"
      ]
     },
     "metadata": {},
     "output_type": "display_data"
    },
    {
     "data": {
      "text/html": [
       "<strong><a href=http://dx.doi.org/10.3389/fpsyg.2020.579518>Move and Be Moved: The Effect of Moving Specific Movement Elements on the Experience of Happiness.</a></strong><br>2020. van Geest J, Samaritter R, van Hooren S<br><small><strong>Abstract:</strong> <em>Dynamic body feedback is used in dance movement therapy (DMT), with the aim to facilitate emotional expression and a change of emotional state through movement and dance for individuals with psychosocial or psychiatric complaints. It has been demonstrated that moving in a specific way can evoke and regulate related emotions. The current study aimed to investigate the effects of executing a unique set of kinetic movement elements on an individual mover's experience of happiness. A specific sequence consisting of movement elements that recent studies have related to the feeling of happiness was created and used in a series of conditions. To achieve a more realistic reflection of DMT practice, the study incorporated the interpersonal dimension between the dance movement therapist (DMTh) and the client, and the impact of this interbodily feedback on the emotional state of the client. This quantitative study was conducted in a within-subject design. Five male and 20 female participants (mean age = 20.72) participated in three conditions: a solo executed movement sequence, a movement sequence executed with a DMTh who attuned and mirrored the movements, and a solo executed movement sequence not associated with feelings of happiness. Participants were only informed about the movements and not the feelings that may be provoked by these movements. The effects on individuals were measured using the Positive and Negative Affect Schedule and visual analog scales. Results showed that a specific movement sequence based on movement elements associated with happiness executed with a DMTh can significantly enhance the corresponding affective state. An additional finding of this study indicated that facilitating expressed emotion through movement elements that are not associated with happiness can enhance feelings such as empowerment, pride, and determination, which are experienced as part of positive affect. The results show the impact of specific full-body movement elements on the emotional state and the support outcome of DMT on emotion regulation.</em></small><br>[ID: 33584414]"
      ],
      "text/plain": [
       "<IPython.core.display.HTML object>"
      ]
     },
     "metadata": {},
     "output_type": "display_data"
    },
    {
     "data": {
      "text/html": [
       "<strong><a href=http://dx.doi.org/10.3389/fpsyg.2020.588948>A Practice-Inspired Mindset for Researching the Psychophysiological and Medical Health Effects of Recreational Dance (Dance Sport).</a></strong><br>2020. Christensen JF, Vartanian M, Sancho-Escanero L, Khorsandi S, Yazdi SHN, Farahi F, Borhani K, Gomila A<br><small><strong>Abstract:</strong> <em>\"Dance\" has been associated with many psychophysiological and medical health effects. However, varying definitions of what constitute \"dance\" have led to a rather heterogenous body of evidence about such potential effects, leaving the picture piecemeal at best. It remains unclear what exact parameters may be driving positive effects. We believe that this heterogeneity of evidence is partly due to a lack of a clear definition of dance for such empirical purposes. A differentiation is needed between (a) the effects on the individual when the activity of \"dancing\" is enjoyed </em></small><br>[ID: 33716840]"
      ],
      "text/plain": [
       "<IPython.core.display.HTML object>"
      ]
     },
     "metadata": {},
     "output_type": "display_data"
    },
    {
     "data": {
      "text/html": [
       "<strong><a href=http://dx.doi.org/10.14336/AD.2020.1107>Body adaptation to Dance: A Gerontological Perspective.</a></strong><br>2021. Gronek P, Boraczyński M, Haas AN, Adamczyk J, Pawlaczyk M, Czarny W, Clark CC, Czerniak U, Demuth A, Celka R, Wycichowska P, Gronek J, Król-Zielińska M<br><small><strong>Abstract:</strong> <em>A number of studies have investigated the effectiveness of dance in older adults in the context of healthy aging. Analysing results across studies is important to understand whether dance in older adults is an effective adjunctive intervention for the healthy aging. To summarize the current research results about the effectiveness of dance in older adults in the context of healthy aging, and to identify key areas for future research. The search was conducted in Web of Science, PubMed and Google Scholar databases, using the following search string and Boolean logic ('AND', 'OR') locating studies published between database inception and September 2018: Dance OR contemporary dance OR ballroom dance OR Latin dance OR standard dance OR hip-hop dance OR tango AND Cardiovascular OR circulation AND Emotion OR well-being OR blood pressure OR disease OR thrombosis OR vascular OR glucose OR blood OR cardiac OR mental OR heart rate. Two reviewers independently extracted studies data. Eight suitable publications were included. The results showed that dance promote improvements in cognitive parameters when compared to other types of exercise or no-exercise. Significant effects were found on some physiological parameters, even after a short intervention period. Dance proved to be able to assist older adults in the context of healthy aging. The improvements in the cognitive, physiological and motor control parameters are very relevant for this population, due to the impact in a better quality of life.</em></small><br>[ID: 34094650]"
      ],
      "text/plain": [
       "<IPython.core.display.HTML object>"
      ]
     },
     "metadata": {},
     "output_type": "display_data"
    },
    {
     "data": {
      "text/html": [
       "<strong><a href=http://dx.doi.org/10.1016/j.cub.2021.09.043>Visual and auditory brain areas share a representational structure that supports emotion perception.</a></strong><br>2021. Sievers B, Parkinson C, Kohler PJ, Hughes JM, Fogelson SV, Wheatley T<br><small><strong>Abstract:</strong> <em>Emotionally expressive music and dance occur together across the world. This may be because features shared across the senses are represented the same way even in different sensory brain areas, putting music and movement in directly comparable terms. These shared representations may arise from a general need to identify environmentally relevant combinations of sensory features, particularly those that communicate emotion. To test the hypothesis that visual and auditory brain areas share a representational structure, we created music and animation stimuli with crossmodally matched features expressing a range of emotions. Participants confirmed that each emotion corresponded to a set of features shared across music and movement. A subset of participants viewed both music and animation during brain scanning, revealing that representations in auditory and visual brain areas were similar to one another. This shared representation captured not only simple stimulus features but also combinations of features associated with emotion judgments. The posterior superior temporal cortex represented both music and movement using this same structure, suggesting supramodal abstraction of sensory content. Further exploratory analysis revealed that early visual cortex used this shared representational structure even when stimuli were presented auditorily. We propose that crossmodally shared representations support mutually reinforcing dynamics across auditory and visual brain areas, facilitating crossmodal comparison. These shared representations may help explain why emotions are so readily perceived and why some dynamic emotional expressions can generalize across cultural contexts.</em></small><br>[ID: 34644547]"
      ],
      "text/plain": [
       "<IPython.core.display.HTML object>"
      ]
     },
     "metadata": {},
     "output_type": "display_data"
    }
   ],
   "source": [
    "query_word = 'dance'\n",
    "for i in inverted_index[query_word]:\n",
    "    display_summary(i, show_abstract=True)"
   ]
  },
  {
   "cell_type": "markdown",
   "metadata": {},
   "source": [
    "----------"
   ]
  },
  {
   "cell_type": "markdown",
   "metadata": {},
   "source": [
    "# Tasks"
   ]
  },
  {
   "cell_type": "markdown",
   "metadata": {},
   "source": [
    "**Your name:** ..."
   ]
  },
  {
   "cell_type": "markdown",
   "metadata": {},
   "source": [
    "### Task 1\n",
    "\n",
    "Implement the function `merge_and` outlined below. This function takes two posting lists from the index that can be assumed to be sorted already (e.g. [3,5,8,10] and [5,7,8,12]), and it should return the result of the merging of the two lists with AND. The resulting list should therefore include all the elements that appear in both lists. As explained on the slides, this operation should take advantage of the input lists being sorted already, should not perform any additional sorting operation, and should go through each of the input lists just once. Then, test your function with an example."
   ]
  },
  {
   "cell_type": "code",
   "execution_count": 10,
   "metadata": {
    "tags": []
   },
   "outputs": [],
   "source": [
    "# your code here\n",
    "\n"
   ]
  },
  {
   "cell_type": "markdown",
   "metadata": {},
   "source": [
    "### Task 2\n",
    "\n",
    "Similarly as above, implement the function `merge_or` outlined below that executes an OR merging of the lists. The resulting list should therefore include all the elements that appear in at least one of the lists. Again, this operation should take advantage of the input lists being sorted already, should not perform any additional sorting operation, and should go through each of the input lists just once. Elements that appear in both input list should only appear once in the output list. Test your function again with an example."
   ]
  },
  {
   "cell_type": "code",
   "execution_count": 11,
   "metadata": {
    "tags": []
   },
   "outputs": [],
   "source": [
    "# your code here\n",
    "\n"
   ]
  },
  {
   "cell_type": "markdown",
   "metadata": {},
   "source": [
    "### Task 3\n",
    "\n",
    "Construct a function called `query_and` that takes as input a single string, consisting of one or more words, and returns as function value a list of matching documents. `query_and`, as its name suggests, should require that all query terms are present in the documents of the result list.\n",
    "\n",
    "For that, access the variable `inverted_index` from above and use the method `merge_and` that you defined. Also use the `tokenize` and `preprocess` functions we defined above to tokenize and preprocess your query.\n",
    "\n",
    "Again demonstrate the working of your function with an example (choose one that leads to fewer than 100 hits to not overblow this notebook file)."
   ]
  },
  {
   "cell_type": "code",
   "execution_count": 12,
   "metadata": {
    "tags": []
   },
   "outputs": [],
   "source": [
    "# your code here\n",
    "\n"
   ]
  },
  {
   "cell_type": "markdown",
   "metadata": {},
   "source": [
    "### Task 4\n",
    "\n",
    "Construct another function called `query_or` that works in the same way as `query_and` you just implemented, but returns as function value the documents that contain _at least one_ of the words in the query, using the `merge_or` function you defined.\n",
    "\n",
    "Demonstrate the working of this function also with an example (again, choose one that leads to fewer than 100 hits)."
   ]
  },
  {
   "cell_type": "code",
   "execution_count": 13,
   "metadata": {
    "tags": []
   },
   "outputs": [],
   "source": [
    "# your code here\n",
    "\n"
   ]
  },
  {
   "cell_type": "markdown",
   "metadata": {},
   "source": [
    "### Task 5\n",
    "\n",
    "Why does `query_and('visual complex scenes emotion')` not return our example paper 31588367, even though it mentions these terms in the title and abstract? (You do not have to implement anything to fix this yet!)"
   ]
  },
  {
   "cell_type": "markdown",
   "metadata": {},
   "source": [
    "**Answer:** "
   ]
  },
  {
   "cell_type": "markdown",
   "metadata": {},
   "source": [
    "# Submission"
   ]
  },
  {
   "cell_type": "markdown",
   "metadata": {},
   "source": [
    "Submit the answers to the assignment via Canvas as a modified version of this Notebook file (file with `.ipynb` extension) that includes your code and your answers.\n",
    "\n",
    "Before submitting, restart the kernel and re-run the complete code (**Kernel > Restart & Run All**), and then check whether your assignment code still works as expected.\n",
    "\n",
    "Don't forget to add your name, and remember that the assignments have to be done **individually**, and that code sharing or copying are **strictly forbidden** and will be punished."
   ]
  },
  {
   "cell_type": "code",
   "execution_count": null,
   "metadata": {},
   "outputs": [],
   "source": []
  }
 ],
 "metadata": {
  "kernelspec": {
   "display_name": "Python 3 (ipykernel)",
   "language": "python",
   "name": "python3"
  },
  "language_info": {
   "codemirror_mode": {
    "name": "ipython",
    "version": 3
   },
   "file_extension": ".py",
   "mimetype": "text/x-python",
   "name": "python",
   "nbconvert_exporter": "python",
   "pygments_lexer": "ipython3",
   "version": "3.8.10"
  }
 },
 "nbformat": 4,
 "nbformat_minor": 4
}
